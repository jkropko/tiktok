{
 "cells": [
  {
   "cell_type": "code",
   "execution_count": 1,
   "id": "47ebc593-6e9c-4908-afbf-6ee11ba91586",
   "metadata": {},
   "outputs": [],
   "source": [
    "import numpy as np\n",
    "import pandas as pd\n",
    "import requests\n",
    "import json\n",
    "import os\n",
    "import helper"
   ]
  },
  {
   "cell_type": "code",
   "execution_count": 2,
   "id": "16ca2392-93ef-4c27-8d71-833f2afda185",
   "metadata": {},
   "outputs": [
    {
     "data": {
      "text/plain": [
       "'{\"error\":{\"code\":\"invalid_params\",\"message\":\"`start_date` and `end_date` are required, please provide them in the request\",\"log_id\":\"20231201193439C0E14E529A1B7C003DE9\"}}'"
      ]
     },
     "execution_count": 2,
     "metadata": {},
     "output_type": "execute_result"
    }
   ],
   "source": [
    "query = '''\n",
    "{\"and\": [\n",
    "    { \"operation\": \"IN\", \n",
    "     \"field_name\": \"region_code\", \n",
    "     \"field_values\": [\"AU\", \"NZ\"] \n",
    "    },\n",
    "    { \"operation\": \"EQ\", \n",
    "     \"field_name\": \"keyword\", \n",
    "     \"field_values\": [\"election\"] \n",
    "    }]\n",
    "}\n",
    "'''\n",
    "helper.queryvideo(query, start_date = '20231101', end_date='20231201')"
   ]
  },
  {
   "cell_type": "code",
   "execution_count": null,
   "id": "edcf074a-159d-4ed6-9d0d-a7dcfed7f035",
   "metadata": {},
   "outputs": [],
   "source": [
    "myjson = json.loads(r.text)\n",
    "cursor = myjson['data']['cursor']\n",
    "has_more = myjson['data']['has_more']\n",
    "search_id = myjson['data']['search_id']\n",
    "df = pd.json_normalize(myjson, record_path = ['data', 'videos'])"
   ]
  },
  {
   "cell_type": "code",
   "execution_count": null,
   "id": "8754d1c7-1f6a-4078-9f41-600d36a71bbd",
   "metadata": {},
   "outputs": [],
   "source": [
    "df"
   ]
  },
  {
   "cell_type": "code",
   "execution_count": null,
   "id": "f0205e3e-432e-492c-9e11-f09f977d9e64",
   "metadata": {},
   "outputs": [],
   "source": []
  },
  {
   "cell_type": "code",
   "execution_count": null,
   "id": "e1212c8c-52d3-4e5f-ad37-d55f8a9ad1f5",
   "metadata": {},
   "outputs": [],
   "source": []
  }
 ],
 "metadata": {
  "kernelspec": {
   "display_name": "Python 3 (ipykernel)",
   "language": "python",
   "name": "python3"
  },
  "language_info": {
   "codemirror_mode": {
    "name": "ipython",
    "version": 3
   },
   "file_extension": ".py",
   "mimetype": "text/x-python",
   "name": "python",
   "nbconvert_exporter": "python",
   "pygments_lexer": "ipython3",
   "version": "3.11.4"
  }
 },
 "nbformat": 4,
 "nbformat_minor": 5
}
